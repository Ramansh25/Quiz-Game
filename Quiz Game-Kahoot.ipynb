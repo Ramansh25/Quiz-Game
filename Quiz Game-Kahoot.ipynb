{
 "cells": [
  {
   "cell_type": "code",
   "execution_count": 1,
   "id": "10d09348-f31f-431b-a1cf-96313072858c",
   "metadata": {},
   "outputs": [],
   "source": [
    "import random"
   ]
  },
  {
   "cell_type": "code",
   "execution_count": 2,
   "id": "bc74efde-b01f-48b8-8eba-2e7c912ba4af",
   "metadata": {},
   "outputs": [],
   "source": [
    "def load_questions_from_file(file_path):\n",
    "    question_bank = []\n",
    "    with open(file_path, \"r\") as file:\n",
    "        for line in file:\n",
    "            parts = line.strip().split(\"|\")\n",
    "            question = parts[0]\n",
    "            options = parts[1:5]\n",
    "            answer = int(parts[5])\n",
    "            question_bank.append({\"question\": question, \"options\": options, \"answer\": answer})\n",
    "    return question_bank"
   ]
  },
  {
   "cell_type": "code",
   "execution_count": 3,
   "id": "06b139d6-12d2-4d60-9bfa-7447c11b3dae",
   "metadata": {},
   "outputs": [],
   "source": [
    "def display_question(question, index):\n",
    "    print(f\"Q{index + 1}: {question['question']}\")\n",
    "    for i, option in enumerate(question['options']):\n",
    "        print(f\"  {i + 1}. {option}\")\n"
   ]
  },
  {
   "cell_type": "code",
   "execution_count": 4,
   "id": "15f46a67-20da-41c0-9a3a-7a500722214c",
   "metadata": {},
   "outputs": [],
   "source": [
    "def get_user_answer():\n",
    "    try:\n",
    "        return int(input(\"Your answer (1-4): \")) - 1\n",
    "    except ValueError:\n",
    "        return -1"
   ]
  },
  {
   "cell_type": "code",
   "execution_count": 6,
   "id": "f488d8a4-69af-41e1-a2bf-d0ff9251feea",
   "metadata": {},
   "outputs": [],
   "source": [
    "def main():\n",
    "    question_bank = load_questions_from_file(\"questions.txt\")\n",
    "    selected_questions = random.sample(question_bank, 5)\n",
    "    score = 0\n",
    "\n",
    "    for i, question in enumerate(selected_questions):\n",
    "        display_question(question, i)\n",
    "        user_answer = get_user_answer()\n",
    "        if user_answer == question['answer']:\n",
    "            print(\"Correct!\\n\")\n",
    "            score += 1\n",
    "        else:\n",
    "            correct_option = question['options'][question['answer']]\n",
    "            print(f\"Wrong! The correct answer was: {correct_option}\\n\")\n",
    "\n",
    "    print(f\"Final Score: {score}/{len(selected_questions)}\")"
   ]
  },
  {
   "cell_type": "code",
   "execution_count": 7,
   "id": "90de55ff-79e6-453a-81de-d64c528414d9",
   "metadata": {},
   "outputs": [
    {
     "name": "stdout",
     "output_type": "stream",
     "text": [
      "Q1: Who wrote 'Hamlet'?\n",
      "  1. Shakespeare\n",
      "  2. Dickens\n",
      "  3. Hemingway\n",
      "  4. Austen\n"
     ]
    },
    {
     "name": "stdin",
     "output_type": "stream",
     "text": [
      "Your answer (1-4):  1\n"
     ]
    },
    {
     "name": "stdout",
     "output_type": "stream",
     "text": [
      "Correct!\n",
      "\n",
      "Q2: What is the powerhouse of the cell?\n",
      "  1. Nucleus\n",
      "  2. Mitochondria\n",
      "  3. Ribosome\n",
      "  4. Golgi Apparatus\n"
     ]
    },
    {
     "name": "stdin",
     "output_type": "stream",
     "text": [
      "Your answer (1-4):  2\n"
     ]
    },
    {
     "name": "stdout",
     "output_type": "stream",
     "text": [
      "Correct!\n",
      "\n",
      "Q3: What is the largest mammal?\n",
      "  1. Elephant\n",
      "  2. Whale\n",
      "  3. Shark\n",
      "  4. Dinosaur\n"
     ]
    },
    {
     "name": "stdin",
     "output_type": "stream",
     "text": [
      "Your answer (1-4):  1\n"
     ]
    },
    {
     "name": "stdout",
     "output_type": "stream",
     "text": [
      "Wrong! The correct answer was: Whale\n",
      "\n",
      "Q4: What is the speed of light?\n",
      "  1. 300 km/s\n",
      "  2. 300,000 km/s\n",
      "  3. 150,000 km/s\n",
      "  4. 450,000 km/s\n"
     ]
    },
    {
     "name": "stdin",
     "output_type": "stream",
     "text": [
      "Your answer (1-4):  2\n"
     ]
    },
    {
     "name": "stdout",
     "output_type": "stream",
     "text": [
      "Correct!\n",
      "\n",
      "Q5: Which planet is known as the Red Planet?\n",
      "  1. Earth\n",
      "  2. Mars\n",
      "  3. Jupiter\n",
      "  4. Venus\n"
     ]
    },
    {
     "name": "stdin",
     "output_type": "stream",
     "text": [
      "Your answer (1-4):  2\n"
     ]
    },
    {
     "name": "stdout",
     "output_type": "stream",
     "text": [
      "Correct!\n",
      "\n",
      "Final Score: 4/5\n"
     ]
    }
   ],
   "source": [
    "if __name__ == \"__main__\":\n",
    "    main()"
   ]
  },
  {
   "cell_type": "code",
   "execution_count": null,
   "id": "359dacfc-b17a-4918-ab61-5ad6d4f59a6c",
   "metadata": {},
   "outputs": [],
   "source": []
  }
 ],
 "metadata": {
  "kernelspec": {
   "display_name": "Python 3 (ipykernel)",
   "language": "python",
   "name": "python3"
  },
  "language_info": {
   "codemirror_mode": {
    "name": "ipython",
    "version": 3
   },
   "file_extension": ".py",
   "mimetype": "text/x-python",
   "name": "python",
   "nbconvert_exporter": "python",
   "pygments_lexer": "ipython3",
   "version": "3.11.5"
  }
 },
 "nbformat": 4,
 "nbformat_minor": 5
}
